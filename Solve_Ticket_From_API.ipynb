{
 "cells": [
  {
   "cell_type": "markdown",
   "metadata": {},
   "source": [
    "# add an internal note"
   ]
  },
  {
   "cell_type": "code",
   "execution_count": 5,
   "metadata": {},
   "outputs": [
    {
     "name": "stdout",
     "output_type": "stream",
     "text": [
      "Successfully added comment to ticket #825445,840433,840525,840819,842878,843230,844332,844335,844362,845357,845835,845933,846051,846508,846792,847004,847036,847370,847397,847561,847833,847939,848165,848169,848173,848175,848290,848393,848477,848601,848652,848669,848693,848716,848718,848719,848723,848757,848797,849047,849163,849196,849284,849302,849356,849385,849758,849773,850018,850028,850094,850171,850172,850293,850403,850467,850490,850507,850605,850887,850904,851027,851069,851189,851207,851221,851335,851336,851420,851463,851731,851733,851742,852152,852172,852259,852335,852338,852352,852364\n"
     ]
    }
   ],
   "source": [
    "#add an internal note\n",
    "import json\n",
    "import requests\n",
    "\n",
    "# Ticket to update\n",
    "id =  '825445,840433,840525,840819,842878,843230,844332,844335,844362,845357,845835,845933,846051,846508,846792,847004,847036,847370,847397,847561,847833,847939,848165,848169,848173,848175,848290,848393,848477,848601,848652,848669,848693,848716,848718,848719,848723,848757,848797,849047,849163,849196,849284,849302,849356,849385,849758,849773,850018,850028,850094,850171,850172,850293,850403,850467,850490,850507,850605,850887,850904,851027,851069,851189,851207,851221,851335,851336,851420,851463,851731,851733,851742,852152,852172,852259,852335,852338,852352,852364'\n",
    "body = 'incentive sent, Cloased By Zendesk API...'\n",
    "\n",
    "# Package the data in a dictionary matching the expected JSON\n",
    "data = { 'ticket': { 'comment': { 'body': body , 'public':'false'  } } }\n",
    "# Encode the data to create a JSON payload\n",
    "payload = json.dumps(data)\n",
    "\n",
    "# Set the request parameters\n",
    "url = 'https://yougov.zendesk.com/api/v2/tickets/update_many.json?ids='+ id\n",
    "\n",
    "user = 'muthana.hamad@yougov.com'\n",
    "pwd = 'Python@123'\n",
    "headers = {'content-type': 'application/json'}\n",
    "\n",
    "# Do the HTTP put request\n",
    "response = requests.put(url, data=payload, auth=(user, pwd), headers=headers)\n",
    "\n",
    "# Check for HTTP codes other than 200\n",
    "if response.status_code != 200:\n",
    "    print('Status:', response.status_code, 'Problem with the request. Exiting.')\n",
    "    exit()\n",
    "\n",
    "# Report success\n",
    "print('Successfully added comment to ticket #{}'.format(id))"
   ]
  },
  {
   "cell_type": "markdown",
   "metadata": {},
   "source": [
    "# add tags"
   ]
  },
  {
   "cell_type": "code",
   "execution_count": 6,
   "metadata": {},
   "outputs": [
    {
     "name": "stdout",
     "output_type": "stream",
     "text": [
      "Successfully added comment to ticket #825445,840433,840525,840819,842878,843230,844332,844335,844362,845357,845835,845933,846051,846508,846792,847004,847036,847370,847397,847561,847833,847939,848165,848169,848173,848175,848290,848393,848477,848601,848652,848669,848693,848716,848718,848719,848723,848757,848797,849047,849163,849196,849284,849302,849356,849385,849758,849773,850018,850028,850094,850171,850172,850293,850403,850467,850490,850507,850605,850887,850904,851027,851069,851189,851207,851221,851335,851336,851420,851463,851731,851733,851742,852152,852172,852259,852335,852338,852352,852364\n"
     ]
    }
   ],
   "source": [
    "#add tags\n",
    "import json\n",
    "import requests\n",
    "\n",
    "# Ticket to update\n",
    "id =  '825445,840433,840525,840819,842878,843230,844332,844335,844362,845357,845835,845933,846051,846508,846792,847004,847036,847370,847397,847561,847833,847939,848165,848169,848173,848175,848290,848393,848477,848601,848652,848669,848693,848716,848718,848719,848723,848757,848797,849047,849163,849196,849284,849302,849356,849385,849758,849773,850018,850028,850094,850171,850172,850293,850403,850467,850490,850507,850605,850887,850904,851027,851069,851189,851207,851221,851335,851336,851420,851463,851731,851733,851742,852152,852172,852259,852335,852338,852352,852364'\n",
    "\n",
    "# Package the data in a dictionary matching the expected JSON\n",
    "data = {\"ticket\": {\"tags\": [\"API\", \"rewards\",\"12092018\"]}}\n",
    "        \n",
    "# Encode the data to create a JSON payload\n",
    "payload = json.dumps(data)\n",
    "\n",
    "# Set the request parameters\n",
    "url = 'https://yougov.zendesk.com/api/v2/tickets/update_many.json?ids='+ id\n",
    "\n",
    "user = 'muthana.hamad@yougov.com'\n",
    "pwd = 'Python@123'\n",
    "headers = {'content-type': 'application/json'}\n",
    "\n",
    "# Do the HTTP put request\n",
    "response = requests.put(url, data=payload, auth=(user, pwd), headers=headers)\n",
    "\n",
    "# Check for HTTP codes other than 200\n",
    "if response.status_code != 200:\n",
    "    print('Status:', response.status_code, 'Problem with the request. Exiting.')\n",
    "    exit()\n",
    "\n",
    "# Report success\n",
    "print('Successfully added comment to ticket #{}'.format(id))"
   ]
  },
  {
   "cell_type": "markdown",
   "metadata": {},
   "source": [
    "# contact the panelit "
   ]
  },
  {
   "cell_type": "code",
   "execution_count": 7,
   "metadata": {},
   "outputs": [
    {
     "name": "stdout",
     "output_type": "stream",
     "text": [
      "Successfully added comment to ticket #825445,840433,840525,840819,842878,843230,844332,844335,844362,845357,845835,845933,846051,846508,846792,847004,847036,847370,847397,847561,847833,847939,848165,848169,848173,848175,848290,848393,848477,848601,848652,848669,848693,848716,848718,848719,848723,848757,848797,849047,849163,849196,849284,849302,849356,849385,849758,849773,850018,850028,850094,850171,850172,850293,850403,850467,850490,850507,850605,850887,850904,851027,851069,851189,851207,851221,851335,851336,851420,851463,851731,851733,851742,852152,852172,852259,852335,852338,852352,852364\n"
     ]
    }
   ],
   "source": [
    "# contact the panelit \n",
    "import json\n",
    "import requests\n",
    "\n",
    "# Ticket to update\n",
    "id =  '825445,840433,840525,840819,842878,843230,844332,844335,844362,845357,845835,845933,846051,846508,846792,847004,847036,847370,847397,847561,847833,847939,848165,848169,848173,848175,848290,848393,848477,848601,848652,848669,848693,848716,848718,848719,848723,848757,848797,849047,849163,849196,849284,849302,849356,849385,849758,849773,850018,850028,850094,850171,850172,850293,850403,850467,850490,850507,850605,850887,850904,851027,851069,851189,851207,851221,851335,851336,851420,851463,851731,851733,851742,852152,852172,852259,852335,852338,852352,852364'\n",
    "\n",
    "# Package the data in a dictionary matching the expected JSON\n",
    "data = { 'ticket': { \"status\": \"closed\" } }\n",
    "\n",
    "# Encode the data to create a JSON payload\n",
    "payload = json.dumps(data)\n",
    "\n",
    "# Set the request parameters\n",
    "url = 'https://yougov.zendesk.com/api/v2/tickets/update_many.json?ids='+ id\n",
    "\n",
    "user = 'muthana.hamad@yougov.com'\n",
    "pwd = 'Python@123'\n",
    "headers = {'content-type': 'application/json'}\n",
    "\n",
    "# Do the HTTP put request\n",
    "response = requests.put(url, data=payload, auth=(user, pwd), headers=headers)\n",
    "\n",
    "# Check for HTTP codes other than 200\n",
    "if response.status_code != 200:\n",
    "    print('Status:', response.status_code, 'Problem with the request. Exiting.')\n",
    "    exit()\n",
    "\n",
    "# Report success\n",
    "print('Successfully added comment to ticket #{}'.format(id))"
   ]
  },
  {
   "cell_type": "code",
   "execution_count": null,
   "metadata": {
    "collapsed": true
   },
   "outputs": [],
   "source": []
  },
  {
   "cell_type": "code",
   "execution_count": null,
   "metadata": {
    "collapsed": true
   },
   "outputs": [],
   "source": []
  }
 ],
 "metadata": {
  "kernelspec": {
   "display_name": "Python 3",
   "language": "python",
   "name": "python3"
  },
  "language_info": {
   "codemirror_mode": {
    "name": "ipython",
    "version": 3
   },
   "file_extension": ".py",
   "mimetype": "text/x-python",
   "name": "python",
   "nbconvert_exporter": "python",
   "pygments_lexer": "ipython3",
   "version": "3.6.3"
  }
 },
 "nbformat": 4,
 "nbformat_minor": 2
}
