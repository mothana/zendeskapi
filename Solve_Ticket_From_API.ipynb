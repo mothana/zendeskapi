{
 "cells": [
  {
   "cell_type": "code",
   "execution_count": 2,
   "metadata": {},
   "outputs": [
    {
     "name": "stdout",
     "output_type": "stream",
     "text": [
      "Successfully added comment to ticket #801529,801539,801540,801541,801542\n"
     ]
    }
   ],
   "source": [
    "import json\n",
    "import requests\n",
    "\n",
    "# Ticket Numbers and Test to be sent\n",
    "id = '800355,800491,800538,800858,800873,800928,801291,802129'\n",
    "body = 'نشكرك على اهتمامك في الانضمام إلى يوجوف. إن التسجيل متوقف حالياً لذا لن نتمكن من تفعيل حسابك و لن تصلك استطلاعات جديدة. لقد سجلنا عنوان بريدك الإلكتروني. إن تم فتح باب الانضمام من جديد، سَنُعلِمُك بذلك.'\n",
    "\n",
    "\n",
    "# Python dictionary matching the expected JSON\n",
    "data = { 'ticket': {  \"status\": \"solved\", 'comment': { 'body': body } } }\n",
    "\n",
    "# Encode the data to create a JSON payload\n",
    "payload = json.dumps(data)\n",
    "\n",
    "# Zendesk parameters\n",
    "url = 'https://yougov.zendesk.com/api/v2/tickets/update_many.json?ids='+ id\n",
    "user = 'muthana.hamad@yougov.com'\n",
    "pwd = 'Ccna@123'\n",
    "headers = {'content-type': 'application/json'}\n",
    "\n",
    "# Do the HTTP put request\n",
    "response = requests.put(url, data=payload, auth=(user, pwd), headers=headers)\n",
    "\n",
    "# Check for HTTP codes other than 200\n",
    "if response.status_code != 200:\n",
    "    print('solved:', response.status_code, 'Problem with the request. Exiting.')\n",
    "    exit()\n",
    "\n",
    "# Which tickets where Closed\n",
    "print('Successfully Done #{}'.format(id))"
   ]
  },
  {
   "cell_type": "code",
   "execution_count": null,
   "metadata": {
    "collapsed": true
   },
   "outputs": [],
   "source": [
    "\n"
   ]
  },
  {
   "cell_type": "code",
   "execution_count": null,
   "metadata": {
    "collapsed": true
   },
   "outputs": [],
   "source": []
  }
 ],
 "metadata": {
  "kernelspec": {
   "display_name": "Python 3",
   "language": "python",
   "name": "python3"
  },
  "language_info": {
   "codemirror_mode": {
    "name": "ipython",
    "version": 3
   },
   "file_extension": ".py",
   "mimetype": "text/x-python",
   "name": "python",
   "nbconvert_exporter": "python",
   "pygments_lexer": "ipython3",
   "version": "3.6.3"
  }
 },
 "nbformat": 4,
 "nbformat_minor": 2
}
