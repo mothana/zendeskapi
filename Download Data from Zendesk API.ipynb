{
 "cells": [
  {
   "cell_type": "markdown",
   "metadata": {},
   "source": [
    "# Download open and new tickets (.xlsx)"
   ]
  },
  {
   "cell_type": "code",
   "execution_count": null,
   "metadata": {},
   "outputs": [],
   "source": [
    "#import required libraries\n",
    "\n",
    "import json\n",
    "import requests\n",
    "import pandas as pd\n",
    "\n",
    "# Set the API call request parameters\n",
    "url = 'https://COMPANY DOMAIN.zendesk.com/api/v2/search.json?query=type:ticket%20status:new,status:open&sort_by=status&sort_order=desc'\n",
    "user = 'EMAIL'\n",
    "pwd = 'PASSWORD'\n",
    "headers = {'content-type': 'application/json'}\n",
    "\n",
    "response = requests.request(\"GET\", url, headers=headers,auth=(user, pwd))\n"
   ]
  },
  {
   "cell_type": "code",
   "execution_count": null,
   "metadata": {},
   "outputs": [],
   "source": [
    "#slice the JSON object \n",
    "Data = response.text\n",
    "\n",
    "JD = json.loads(Data)\n",
    "JD = JD['results']"
   ]
  },
  {
   "cell_type": "code",
   "execution_count": null,
   "metadata": {},
   "outputs": [],
   "source": [
    "#JSON to DataFrame\n",
    "\n",
    "Table = pd.DataFrame(JD) \n"
   ]
  },
  {
   "cell_type": "code",
   "execution_count": null,
   "metadata": {},
   "outputs": [],
   "source": [
    "#add clickable link\n",
    "Table['link'] = 'https://COMPANY DOMAIN.zendesk.com/agent/tickets/' + Table['id'].map(str)\n"
   ]
  },
  {
   "cell_type": "code",
   "execution_count": null,
   "metadata": {},
   "outputs": [],
   "source": [
    "#select columns to added to the excel file \n",
    "T = Table[['id', 'description', 'link']]\n",
    "T"
   ]
  },
  {
   "cell_type": "code",
   "execution_count": null,
   "metadata": {},
   "outputs": [],
   "source": [
    "#Export to excel(.xlsx)\n",
    "T.to_excel(r'Desktop/tickets_26-09-2019.xlsx', index = None, header=True)\n"
   ]
  }
 ],
 "metadata": {
  "kernelspec": {
   "display_name": "Python 3",
   "language": "python",
   "name": "python3"
  },
  "language_info": {
   "codemirror_mode": {
    "name": "ipython",
    "version": 3
   },
   "file_extension": ".py",
   "mimetype": "text/x-python",
   "name": "python",
   "nbconvert_exporter": "python",
   "pygments_lexer": "ipython3",
   "version": "3.7.3"
  }
 },
 "nbformat": 4,
 "nbformat_minor": 2
}
